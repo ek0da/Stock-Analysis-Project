{
 "cells": [
  {
   "cell_type": "code",
   "execution_count": 8,
   "id": "b7702f72-9b0a-42d9-8f4a-71f0510913a0",
   "metadata": {},
   "outputs": [],
   "source": [
    "import time\n",
    "import datetime\n",
    "import pandas as pd\n",
    "import yfinance\n",
    "import statistics\n",
    "import pandas as pd\n",
    "import numpy as np\n",
    "from scipy import stats\n",
    "from sklearn import preprocessing\n",
    "from sklearn.model_selection import KFold\n",
    "from sklearn.linear_model import LinearRegression\n",
    "import matplotlib.pyplot as plt\n",
    "import joblib\n",
    "%matplotlib inline"
   ]
  },
  {
   "cell_type": "code",
   "execution_count": 3,
   "id": "fc3034aa-1190-4fa6-9e1d-47ffafa44c38",
   "metadata": {},
   "outputs": [],
   "source": [
    "def date_to_sec(date):\n",
    "    i = str(date).split('-')\n",
    "    return int(time.mktime(datetime.datetime(int(i[0]), int(i[1]), int(i[2]), 0).timetuple()))"
   ]
  },
  {
   "cell_type": "code",
   "execution_count": 4,
   "id": "e2742757-b5c8-438b-8d2f-21b9df902e34",
   "metadata": {},
   "outputs": [],
   "source": [
    "# Gets historical Stock price data from yahoo finance. \n",
    "# Imputs: ticker - the stock ticker. String. 1-4 characters.\n",
    "#         time_period - the time, in days history back from the present that data should be retrived. Int.\n",
    "# output: a pandas dataframe.\n",
    "def get_historical_data(ticker, time_period):\n",
    "    period2 = int(time.mktime(datetime.date.today().timetuple()))\n",
    "    period1 = int(time.mktime(datetime.date.today().timetuple())) - 3600*24*7*time_period\n",
    "    query_string = f'https://query1.finance.yahoo.com/v7/finance/download/{ticker}?period1={period1}&period2={period2}&interval=1d&events=history&includeAdjustedClose=true'\n",
    "    df = pd.read_csv(query_string) \n",
    "    df['Time'] = df['Date'].apply(date_to_sec)\n",
    "    df.drop(columns ='Date', inplace = True)\n",
    "    return df"
   ]
  },
  {
   "cell_type": "code",
   "execution_count": 19,
   "id": "dde6433b-e902-4bdd-86e4-fd75a40683c6",
   "metadata": {},
   "outputs": [],
   "source": [
    "# Inputs: lookback: the maximum number of weeks backwards from today that the function should look at. \n",
    "#         df: the dataframe with the stock data on it.\n",
    "# Outputs: tuple: [of days backwards the model uses, mean R^2]\n",
    "#\n",
    "def find_best_lin_reg(lookback, df):\n",
    "    starttime = int(time.mktime(datetime.datetime.now().timetuple()))\n",
    "    #stores the max mean adjusted R^2 found, and the number of weeks back it was aquired.\n",
    "    maxscore = [0, 0]\n",
    "    for l in range(10, lookback+1):\n",
    "        #cuts out all data that is outside of the timeframe the given model is looking at.\n",
    "        df2 = df[df.Time >= (int(time.mktime(datetime.date.today().timetuple())) - 3600*24*7*l)]\n",
    "        # sets the dependent and independent variables.\n",
    "        X = pd.DataFrame(df2['Time'])\n",
    "        y = pd.DataFrame(df2['Open'])\n",
    "        #selects the model to be used.\n",
    "        model = LinearRegression()\n",
    "        #stores the adjusted R^2 values for each k fold.\n",
    "        scores = []\n",
    "        # folds that dough, fits the model, etc.\n",
    "        kfold = KFold(n_splits=3, shuffle=True, random_state=42)\n",
    "        for i, (train, test) in enumerate(kfold.split(X, y)):\n",
    "         model.fit(X.iloc[train,:], y.iloc[train,:])\n",
    "         #calculates the ADJUSTED R^2.\n",
    "         score = 1 - ( 1-model.score(X.iloc[test,:], y.iloc[test,:]) ) * ( len(y) - 1 ) / ( len(y) - X.shape[1] - 1 )\n",
    "         scores.append(score)\n",
    "        # If it's the best score, keep it.\n",
    "        if statistics.mean(scores) >= maxscore[0]:\n",
    "            maxscore[0] = statistics.mean(scores)\n",
    "            maxscore[1] = l\n",
    "    endtime = int(time.mktime(datetime.datetime.now().timetuple()))\n",
    "    print(\"Total time: \"+str(endtime-starttime)+\" seconds\")\n",
    "    return maxscore"
   ]
  },
  {
   "cell_type": "code",
   "execution_count": 20,
   "id": "91e53181-c947-4bda-b8cd-bc8234542823",
   "metadata": {},
   "outputs": [
    {
     "name": "stdout",
     "output_type": "stream",
     "text": [
      "Total time: 4 seconds\n",
      "[0.8581014898462324, 99]\n"
     ]
    }
   ],
   "source": [
    "ticker = 'TSLA'\n",
    "period = 300\n",
    "df = get_historical_data(ticker, period)\n",
    "print(find_best_lin_reg(period, df))\n"
   ]
  },
  {
   "cell_type": "code",
   "execution_count": 14,
   "id": "8bfa1b23-f96b-4a30-b920-ad1774253654",
   "metadata": {},
   "outputs": [],
   "source": [
    "def make_lin_reg_model(df, period, ticker):\n",
    "    # cut the dataset to the appropriate length.\n",
    "    df2 = df[df.Time >= (int(time.mktime(datetime.date.today().timetuple())) - 3600*24*7*period)]\n",
    "    # sets the dependent and independent variables.\n",
    "    X = pd.DataFrame(df2['Time'])\n",
    "    y = pd.DataFrame(df2['Open'])\n",
    "    # build the model using all data. \n",
    "    model = LinearRegression()\n",
    "    model.fit(X,y)\n",
    "    # save model to a file.\n",
    "    filename = f'lin_reg_model_{ticker}.sav'\n",
    "    joblib.dump(model, filename)\n",
    "    return filename"
   ]
  },
  {
   "cell_type": "code",
   "execution_count": 12,
   "id": "d92a2cea-3873-499a-a092-0d647a7b06d9",
   "metadata": {},
   "outputs": [
    {
     "name": "stdout",
     "output_type": "stream",
     "text": [
      "Total time: 7 seconds\n"
     ]
    }
   ],
   "source": [
    "ticker = 'TSLA'\n",
    "period = 300\n",
    "df = get_historical_data(ticker, period)\n",
    "best_model = find_best_lin_reg(period, df)\n",
    "make_lin_reg_model(df, best_model[1], ticker)"
   ]
  },
  {
   "cell_type": "code",
   "execution_count": 33,
   "id": "59b3d0e4-2120-4202-bb6f-4f8d79bf960d",
   "metadata": {},
   "outputs": [],
   "source": [
    "# Inputs: lookforward is in number of days\n",
    "def predict_price(ticker, filename, lookforward):\n",
    "    # load the model\n",
    "    loaded_model = joblib.load(filename)\n",
    "    predictions = []\n",
    "    for i in range(0, lookforward+1):\n",
    "        prediction = loaded_model.predict([[(int(time.mktime(datetime.date.today().timetuple())) + 3600*24*i)]])\n",
    "        predictions.append(prediction[0][0])\n",
    "    return predictions"
   ]
  },
  {
   "cell_type": "code",
   "execution_count": 35,
   "id": "39028423-83d7-46f6-b074-62993c51d827",
   "metadata": {},
   "outputs": [
    {
     "name": "stdout",
     "output_type": "stream",
     "text": [
      "Total time: 4 seconds\n"
     ]
    },
    {
     "data": {
      "text/plain": [
       "[787.2518706852898,\n",
       " 788.4722855761356,\n",
       " 789.6927004669815,\n",
       " 790.9131153578273,\n",
       " 792.1335302486732,\n",
       " 793.3539451395227,\n",
       " 794.5743600303686,\n",
       " 795.7947749212144,\n",
       " 797.0151898120603,\n",
       " 798.2356047029061,\n",
       " 799.456019593752,\n",
       " 800.6764344845978,\n",
       " 801.8968493754437,\n",
       " 803.1172642662896,\n",
       " 804.3376791571391,\n",
       " 805.5580940479849,\n",
       " 806.7785089388308,\n",
       " 807.9989238296766,\n",
       " 809.2193387205225,\n",
       " 810.4397536113684,\n",
       " 811.6601685022142,\n",
       " 812.8805833930601,\n",
       " 814.1009982839096,\n",
       " 815.3214131747554,\n",
       " 816.5418280656013,\n",
       " 817.7622429564472,\n",
       " 818.982657847293,\n",
       " 820.2030727381389,\n",
       " 821.4234876289847,\n",
       " 822.6439025198306,\n",
       " 823.8643174106764]"
      ]
     },
     "execution_count": 35,
     "metadata": {},
     "output_type": "execute_result"
    }
   ],
   "source": [
    "ticker = 'TSLA'\n",
    "period = 300\n",
    "lookforward = 30\n",
    "df = get_historical_data(ticker, period)\n",
    "best_model = find_best_lin_reg(period, df)\n",
    "filename = make_lin_reg_model(df, best_model[1], ticker)\n",
    "predict_price(ticker, filename, lookforward)"
   ]
  },
  {
   "cell_type": "code",
   "execution_count": null,
   "id": "2c741ab1-428c-470a-b113-22159c64a94b",
   "metadata": {},
   "outputs": [],
   "source": [
    "def make_models(ticker):\n",
    "    "
   ]
  }
 ],
 "metadata": {
  "kernelspec": {
   "display_name": "Python 3",
   "language": "python",
   "name": "python3"
  },
  "language_info": {
   "codemirror_mode": {
    "name": "ipython",
    "version": 3
   },
   "file_extension": ".py",
   "mimetype": "text/x-python",
   "name": "python",
   "nbconvert_exporter": "python",
   "pygments_lexer": "ipython3",
   "version": "3.8.8"
  }
 },
 "nbformat": 4,
 "nbformat_minor": 5
}
